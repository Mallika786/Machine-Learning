{
 "cells": [
  {
   "cell_type": "markdown",
   "id": "763689f7",
   "metadata": {},
   "source": [
    "# Start(h1)\n",
    "## h2\n",
    "### h3"
   ]
  },
  {
   "cell_type": "code",
   "execution_count": 12,
   "id": "eb4ff3b9",
   "metadata": {},
   "outputs": [],
   "source": [
    "a= 10\n",
    "b= 8.4\n",
    "c= 'hey'\n",
    "d=True"
   ]
  },
  {
   "cell_type": "code",
   "execution_count": 13,
   "id": "37112046",
   "metadata": {},
   "outputs": [
    {
     "name": "stdout",
     "output_type": "stream",
     "text": [
      "<class 'int'>\n",
      "<class 'float'>\n",
      "<class 'str'>\n",
      "<class 'bool'>\n"
     ]
    }
   ],
   "source": [
    "print(type(a))\n",
    "print(type(b))\n",
    "print(type(c))\n",
    "print(type(d))"
   ]
  },
  {
   "cell_type": "code",
   "execution_count": 7,
   "id": "e9ed7903",
   "metadata": {},
   "outputs": [
    {
     "name": "stdout",
     "output_type": "stream",
     "text": [
      "15\n",
      "5\n"
     ]
    }
   ],
   "source": [
    "a=10\n",
    "b=5\n",
    "print(a+b)\n",
    "print(a-b)"
   ]
  },
  {
   "cell_type": "code",
   "execution_count": 20,
   "id": "b16ea122",
   "metadata": {},
   "outputs": [
    {
     "name": "stdout",
     "output_type": "stream",
     "text": [
      "The vale of a: 10\n"
     ]
    }
   ],
   "source": [
    "print(f\"The vale of a: {a}\")"
   ]
  },
  {
   "cell_type": "code",
   "execution_count": 23,
   "id": "3310a42d",
   "metadata": {},
   "outputs": [
    {
     "name": "stdout",
     "output_type": "stream",
     "text": [
      "True\n"
     ]
    }
   ],
   "source": [
    "rain= False\n",
    "temp=40\n",
    "\n",
    "play= not rain and temp<50\n",
    "print(play)"
   ]
  },
  {
   "cell_type": "code",
   "execution_count": 25,
   "id": "47a56351",
   "metadata": {},
   "outputs": [
    {
     "name": "stdout",
     "output_type": "stream",
     "text": [
      "Odd\n"
     ]
    }
   ],
   "source": [
    "a=9\n",
    "\n",
    "if a%2==0:\n",
    "    print(\"Even\")\n",
    "else:\n",
    "    print(\"Odd\")"
   ]
  },
  {
   "cell_type": "code",
   "execution_count": 1,
   "id": "cd9de3f3",
   "metadata": {},
   "outputs": [
    {
     "name": "stdout",
     "output_type": "stream",
     "text": [
      "7\n",
      "One\n"
     ]
    }
   ],
   "source": [
    "a=int(input())\n",
    "\n",
    "if a%3==1:\n",
    "    print(\"One\")\n",
    "elif a%3==0:\n",
    "    print(\"Zero\")\n",
    "elif a%3==2:\n",
    "    print(\"Two\")"
   ]
  },
  {
   "cell_type": "code",
   "execution_count": 2,
   "id": "28a0591b",
   "metadata": {},
   "outputs": [
    {
     "name": "stdout",
     "output_type": "stream",
     "text": [
      "1\n",
      "3\n",
      "5\n",
      "7\n",
      "9\n",
      "11\n",
      "13\n",
      "15\n",
      "17\n",
      "19\n"
     ]
    }
   ],
   "source": [
    "for i in range(1,21,2):\n",
    "    print(i)"
   ]
  },
  {
   "cell_type": "code",
   "execution_count": null,
   "id": "bafffa59",
   "metadata": {},
   "outputs": [],
   "source": [
    "for i in range(1,21,2):\n",
    "    print(i)"
   ]
  },
  {
   "cell_type": "code",
   "execution_count": 5,
   "id": "f2967ee2",
   "metadata": {},
   "outputs": [
    {
     "name": "stdout",
     "output_type": "stream",
     "text": [
      "Hello world!\n"
     ]
    }
   ],
   "source": [
    "def func():\n",
    "    print(\"Hello world!\")\n",
    "    \n",
    "func()"
   ]
  },
  {
   "cell_type": "code",
   "execution_count": 10,
   "id": "9e673b84",
   "metadata": {},
   "outputs": [],
   "source": [
    "l1=['a','b','c','d']\n",
    "l2=[1,2,3,4]\n",
    "d={}\n",
    "for i in range(len(l1)):\n",
    "    d[l1[i]]=l2[i]"
   ]
  },
  {
   "cell_type": "code",
   "execution_count": 12,
   "id": "fb4453d6",
   "metadata": {},
   "outputs": [
    {
     "data": {
      "text/plain": [
       "{'a': 1, 'b': 2, 'c': 3, 'd': 4}"
      ]
     },
     "execution_count": 12,
     "metadata": {},
     "output_type": "execute_result"
    }
   ],
   "source": [
    "d"
   ]
  },
  {
   "cell_type": "code",
   "execution_count": 13,
   "id": "5f37e109",
   "metadata": {},
   "outputs": [
    {
     "data": {
      "text/plain": [
       "'baab'"
      ]
     },
     "execution_count": 13,
     "metadata": {},
     "output_type": "execute_result"
    }
   ],
   "source": [
    "a='abaaba'\n",
    "a[1:5]"
   ]
  },
  {
   "cell_type": "code",
   "execution_count": 15,
   "id": "6a591ba0",
   "metadata": {},
   "outputs": [
    {
     "name": "stdout",
     "output_type": "stream",
     "text": [
      "dict_keys(['a', 'b', 'c', 'd'])\n",
      "dict_keys(['a', 'b', 'c', 'd'])\n",
      "dict_keys(['a', 'b', 'c', 'd'])\n",
      "dict_keys(['a', 'b', 'c', 'd'])\n"
     ]
    }
   ],
   "source": [
    "for i in d:\n",
    "    print(d.keys())"
   ]
  }
 ],
 "metadata": {
  "kernelspec": {
   "display_name": "Python 3 (ipykernel)",
   "language": "python",
   "name": "python3"
  },
  "language_info": {
   "codemirror_mode": {
    "name": "ipython",
    "version": 3
   },
   "file_extension": ".py",
   "mimetype": "text/x-python",
   "name": "python",
   "nbconvert_exporter": "python",
   "pygments_lexer": "ipython3",
   "version": "3.10.9"
  }
 },
 "nbformat": 4,
 "nbformat_minor": 5
}
