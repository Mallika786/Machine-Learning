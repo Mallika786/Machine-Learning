{
  "nbformat": 4,
  "nbformat_minor": 0,
  "metadata": {
    "colab": {
      "provenance": [],
      "toc_visible": true,
      "gpuType": "T4"
    },
    "kernelspec": {
      "name": "python3",
      "display_name": "Python 3"
    },
    "language_info": {
      "name": "python"
    },
    "accelerator": "GPU"
  },
  "cells": [
    {
      "cell_type": "markdown",
      "source": [
        "# NUMPY"
      ],
      "metadata": {
        "id": "tUd2s9demS0e"
      }
    },
    {
      "cell_type": "code",
      "execution_count": 2,
      "metadata": {
        "id": "cne6Pi20lTc5"
      },
      "outputs": [],
      "source": [
        "import numpy as np"
      ]
    },
    {
      "cell_type": "code",
      "source": [
        "ar=np.array(list(range(10)))"
      ],
      "metadata": {
        "id": "3t8HRmScnIFV"
      },
      "execution_count": null,
      "outputs": []
    },
    {
      "cell_type": "code",
      "source": [
        "type(ar)"
      ],
      "metadata": {
        "colab": {
          "base_uri": "https://localhost:8080/"
        },
        "id": "U8DIVL3Jng3J",
        "outputId": "5a4a3129-de97-41bf-9049-f43ab3ab91ed"
      },
      "execution_count": null,
      "outputs": [
        {
          "output_type": "execute_result",
          "data": {
            "text/plain": [
              "numpy.ndarray"
            ]
          },
          "metadata": {},
          "execution_count": 6
        }
      ]
    },
    {
      "cell_type": "code",
      "source": [
        "ar"
      ],
      "metadata": {
        "colab": {
          "base_uri": "https://localhost:8080/"
        },
        "id": "QJsGrD5Mni4s",
        "outputId": "4304ffd4-b064-4435-f614-b21838fe96f8"
      },
      "execution_count": null,
      "outputs": [
        {
          "output_type": "execute_result",
          "data": {
            "text/plain": [
              "array([0, 1, 2, 3, 4, 5, 6, 7, 8, 9])"
            ]
          },
          "metadata": {},
          "execution_count": 7
        }
      ]
    },
    {
      "cell_type": "code",
      "source": [
        "ar+5"
      ],
      "metadata": {
        "colab": {
          "base_uri": "https://localhost:8080/"
        },
        "id": "-aEVA_OnnxYB",
        "outputId": "8516454c-b91d-4bc9-a8fd-6920df01d07a"
      },
      "execution_count": null,
      "outputs": [
        {
          "output_type": "execute_result",
          "data": {
            "text/plain": [
              "array([ 5,  6,  7,  8,  9, 10, 11, 12, 13, 14])"
            ]
          },
          "metadata": {},
          "execution_count": 8
        }
      ]
    },
    {
      "cell_type": "code",
      "source": [
        "ar**2"
      ],
      "metadata": {
        "colab": {
          "base_uri": "https://localhost:8080/"
        },
        "id": "rM8YSSd3oOAB",
        "outputId": "dcfafb3e-d96b-4b53-c28e-7b31ccdc0a92"
      },
      "execution_count": null,
      "outputs": [
        {
          "output_type": "execute_result",
          "data": {
            "text/plain": [
              "array([ 0,  1,  4,  9, 16, 25, 36, 49, 64, 81])"
            ]
          },
          "metadata": {},
          "execution_count": 9
        }
      ]
    },
    {
      "cell_type": "markdown",
      "source": [
        "ARRAY OPERATION"
      ],
      "metadata": {
        "id": "bl-67SyRoa-q"
      }
    },
    {
      "cell_type": "code",
      "source": [
        "b=ar+5"
      ],
      "metadata": {
        "id": "JwmMpyqwoSH8"
      },
      "execution_count": null,
      "outputs": []
    },
    {
      "cell_type": "code",
      "source": [
        "b"
      ],
      "metadata": {
        "colab": {
          "base_uri": "https://localhost:8080/"
        },
        "id": "OdgWI0QBonSB",
        "outputId": "bdef8604-c6a6-4a1d-c267-138f94dab3ac"
      },
      "execution_count": null,
      "outputs": [
        {
          "output_type": "execute_result",
          "data": {
            "text/plain": [
              "array([ 5,  6,  7,  8,  9, 10, 11, 12, 13, 14])"
            ]
          },
          "metadata": {},
          "execution_count": 11
        }
      ]
    },
    {
      "cell_type": "code",
      "source": [
        "c=ar-10"
      ],
      "metadata": {
        "id": "VoSBK3k8ooLL"
      },
      "execution_count": null,
      "outputs": []
    },
    {
      "cell_type": "code",
      "source": [
        "c"
      ],
      "metadata": {
        "colab": {
          "base_uri": "https://localhost:8080/"
        },
        "id": "4KD2rOpzpB1I",
        "outputId": "1670014b-1db4-4ab3-e776-1d5faddb0464"
      },
      "execution_count": null,
      "outputs": [
        {
          "output_type": "execute_result",
          "data": {
            "text/plain": [
              "array([-10,  -9,  -8,  -7,  -6,  -5,  -4,  -3,  -2,  -1])"
            ]
          },
          "metadata": {},
          "execution_count": 13
        }
      ]
    },
    {
      "cell_type": "code",
      "source": [
        "c.shape"
      ],
      "metadata": {
        "colab": {
          "base_uri": "https://localhost:8080/"
        },
        "id": "9K3iJ22rpCd4",
        "outputId": "ec80db30-3592-4f58-aa89-8a82c7942a10"
      },
      "execution_count": null,
      "outputs": [
        {
          "output_type": "execute_result",
          "data": {
            "text/plain": [
              "(10,)"
            ]
          },
          "metadata": {},
          "execution_count": 14
        }
      ]
    },
    {
      "cell_type": "code",
      "source": [
        "c=c.reshape((-1,1))"
      ],
      "metadata": {
        "id": "XQMFQYwLpHbi"
      },
      "execution_count": null,
      "outputs": []
    },
    {
      "cell_type": "code",
      "source": [
        "c.shape"
      ],
      "metadata": {
        "colab": {
          "base_uri": "https://localhost:8080/"
        },
        "id": "yug26g37pvk6",
        "outputId": "34b48ce3-94c3-43b7-b5eb-43d83eebfa5b"
      },
      "execution_count": null,
      "outputs": [
        {
          "output_type": "execute_result",
          "data": {
            "text/plain": [
              "(10, 1)"
            ]
          },
          "metadata": {},
          "execution_count": 16
        }
      ]
    },
    {
      "cell_type": "code",
      "source": [
        "print(ar)\n",
        "print(b)\n",
        "ar+b"
      ],
      "metadata": {
        "colab": {
          "base_uri": "https://localhost:8080/"
        },
        "id": "P95gSNulpwwD",
        "outputId": "142c93b5-060a-4db5-9852-a63a35abcd34"
      },
      "execution_count": null,
      "outputs": [
        {
          "output_type": "stream",
          "name": "stdout",
          "text": [
            "[0 1 2 3 4 5 6 7 8 9]\n",
            "[ 5  6  7  8  9 10 11 12 13 14]\n"
          ]
        },
        {
          "output_type": "execute_result",
          "data": {
            "text/plain": [
              "array([ 5,  7,  9, 11, 13, 15, 17, 19, 21, 23])"
            ]
          },
          "metadata": {},
          "execution_count": 19
        }
      ]
    },
    {
      "cell_type": "code",
      "source": [
        "ar**b"
      ],
      "metadata": {
        "colab": {
          "base_uri": "https://localhost:8080/"
        },
        "id": "2podtfVKqAF5",
        "outputId": "9835c8ee-ee8d-4357-b8f1-8841bf9e9f4f"
      },
      "execution_count": null,
      "outputs": [
        {
          "output_type": "execute_result",
          "data": {
            "text/plain": [
              "array([             0,              1,            128,           6561,\n",
              "               262144,        9765625,      362797056,    13841287201,\n",
              "         549755813888, 22876792454961])"
            ]
          },
          "metadata": {},
          "execution_count": 20
        }
      ]
    },
    {
      "cell_type": "code",
      "source": [
        "print(ar)\n",
        "print(c)\n",
        "ar+c"
      ],
      "metadata": {
        "colab": {
          "base_uri": "https://localhost:8080/"
        },
        "id": "v3BGTWRSqi9Q",
        "outputId": "785573f3-48b9-4bcd-d708-f68cf5e93b6c"
      },
      "execution_count": null,
      "outputs": [
        {
          "output_type": "stream",
          "name": "stdout",
          "text": [
            "[0 1 2 3 4 5 6 7 8 9]\n",
            "[[-10]\n",
            " [ -9]\n",
            " [ -8]\n",
            " [ -7]\n",
            " [ -6]\n",
            " [ -5]\n",
            " [ -4]\n",
            " [ -3]\n",
            " [ -2]\n",
            " [ -1]]\n"
          ]
        },
        {
          "output_type": "execute_result",
          "data": {
            "text/plain": [
              "array([[-10,  -9,  -8,  -7,  -6,  -5,  -4,  -3,  -2,  -1],\n",
              "       [ -9,  -8,  -7,  -6,  -5,  -4,  -3,  -2,  -1,   0],\n",
              "       [ -8,  -7,  -6,  -5,  -4,  -3,  -2,  -1,   0,   1],\n",
              "       [ -7,  -6,  -5,  -4,  -3,  -2,  -1,   0,   1,   2],\n",
              "       [ -6,  -5,  -4,  -3,  -2,  -1,   0,   1,   2,   3],\n",
              "       [ -5,  -4,  -3,  -2,  -1,   0,   1,   2,   3,   4],\n",
              "       [ -4,  -3,  -2,  -1,   0,   1,   2,   3,   4,   5],\n",
              "       [ -3,  -2,  -1,   0,   1,   2,   3,   4,   5,   6],\n",
              "       [ -2,  -1,   0,   1,   2,   3,   4,   5,   6,   7],\n",
              "       [ -1,   0,   1,   2,   3,   4,   5,   6,   7,   8]])"
            ]
          },
          "metadata": {},
          "execution_count": 21
        }
      ]
    },
    {
      "cell_type": "code",
      "source": [
        "d=np.array([[1,2,3],[4,5,6]])"
      ],
      "metadata": {
        "id": "XvhNvYiGrEgp"
      },
      "execution_count": null,
      "outputs": []
    },
    {
      "cell_type": "code",
      "source": [
        "d"
      ],
      "metadata": {
        "colab": {
          "base_uri": "https://localhost:8080/"
        },
        "id": "_rYV_ldfrVEN",
        "outputId": "f7cc2821-e39f-4a13-ab45-89d2bbfe6059"
      },
      "execution_count": null,
      "outputs": [
        {
          "output_type": "execute_result",
          "data": {
            "text/plain": [
              "array([[1, 2, 3],\n",
              "       [4, 5, 6]])"
            ]
          },
          "metadata": {},
          "execution_count": 23
        }
      ]
    },
    {
      "cell_type": "markdown",
      "source": [
        "function in NUMPY"
      ],
      "metadata": {
        "id": "eFLfBxtsrj1e"
      }
    },
    {
      "cell_type": "code",
      "source": [
        "a=np.zeros((3,4))"
      ],
      "metadata": {
        "id": "vlzRI-88rXN2"
      },
      "execution_count": null,
      "outputs": []
    },
    {
      "cell_type": "code",
      "source": [
        "a"
      ],
      "metadata": {
        "colab": {
          "base_uri": "https://localhost:8080/"
        },
        "id": "ckdDDk3YrwMT",
        "outputId": "20e43da9-6490-4d83-dd33-bbf486e53753"
      },
      "execution_count": null,
      "outputs": [
        {
          "output_type": "execute_result",
          "data": {
            "text/plain": [
              "array([[0., 0., 0., 0.],\n",
              "       [0., 0., 0., 0.],\n",
              "       [0., 0., 0., 0.]])"
            ]
          },
          "metadata": {},
          "execution_count": 25
        }
      ]
    },
    {
      "cell_type": "code",
      "source": [
        "a=np.ones((4,3), dtype='int')"
      ],
      "metadata": {
        "id": "kosDxf2Qrwp4"
      },
      "execution_count": null,
      "outputs": []
    },
    {
      "cell_type": "code",
      "source": [
        "a"
      ],
      "metadata": {
        "colab": {
          "base_uri": "https://localhost:8080/"
        },
        "id": "gmm-Kn-vs7UC",
        "outputId": "3dc771bb-8892-4e95-a975-6540d41c035c"
      },
      "execution_count": null,
      "outputs": [
        {
          "output_type": "execute_result",
          "data": {
            "text/plain": [
              "array([[1, 1, 1],\n",
              "       [1, 1, 1],\n",
              "       [1, 1, 1],\n",
              "       [1, 1, 1]])"
            ]
          },
          "metadata": {},
          "execution_count": 29
        }
      ]
    },
    {
      "cell_type": "code",
      "source": [
        "a=np.ones((4,3),dtype='int')\n",
        "a*5"
      ],
      "metadata": {
        "colab": {
          "base_uri": "https://localhost:8080/"
        },
        "id": "371ekZzUtyKc",
        "outputId": "7519f1cf-60ba-43ff-e263-74be2362087e"
      },
      "execution_count": null,
      "outputs": [
        {
          "output_type": "execute_result",
          "data": {
            "text/plain": [
              "array([[5, 5, 5],\n",
              "       [5, 5, 5],\n",
              "       [5, 5, 5],\n",
              "       [5, 5, 5]])"
            ]
          },
          "metadata": {},
          "execution_count": 32
        }
      ]
    },
    {
      "cell_type": "markdown",
      "source": [
        "Random Fuctions"
      ],
      "metadata": {
        "id": "VXQkC2yNuMOi"
      }
    },
    {
      "cell_type": "code",
      "source": [
        "a=np.random.randint(1,10,(5,1))"
      ],
      "metadata": {
        "id": "t-FggBQNt4ip"
      },
      "execution_count": null,
      "outputs": []
    },
    {
      "cell_type": "code",
      "source": [
        "np.random.randint(1,10)"
      ],
      "metadata": {
        "colab": {
          "base_uri": "https://localhost:8080/"
        },
        "id": "M_vtR__Tut-c",
        "outputId": "60981d93-e5ad-4482-c802-4de51a707d93"
      },
      "execution_count": null,
      "outputs": [
        {
          "output_type": "execute_result",
          "data": {
            "text/plain": [
              "3"
            ]
          },
          "metadata": {},
          "execution_count": 34
        }
      ]
    },
    {
      "cell_type": "code",
      "source": [
        "a=np.random.randint(1,10,(3,4))"
      ],
      "metadata": {
        "id": "tRDdSB_qvKg_"
      },
      "execution_count": null,
      "outputs": []
    },
    {
      "cell_type": "code",
      "source": [
        "print(a)"
      ],
      "metadata": {
        "colab": {
          "base_uri": "https://localhost:8080/"
        },
        "id": "L9SvRPq7u5Ve",
        "outputId": "b0c751a1-dfd8-4e2e-d7b4-09f0d111e167"
      },
      "execution_count": null,
      "outputs": [
        {
          "output_type": "stream",
          "name": "stdout",
          "text": [
            "[[1 8 8 6]\n",
            " [2 4 7 7]\n",
            " [2 6 1 1]]\n"
          ]
        }
      ]
    },
    {
      "cell_type": "code",
      "source": [
        "a.shape"
      ],
      "metadata": {
        "colab": {
          "base_uri": "https://localhost:8080/"
        },
        "id": "g7WVqahtvULu",
        "outputId": "67a3e89f-74b1-4b92-a2a6-531bd46205b0"
      },
      "execution_count": null,
      "outputs": [
        {
          "output_type": "execute_result",
          "data": {
            "text/plain": [
              "(3, 4)"
            ]
          },
          "metadata": {},
          "execution_count": 38
        }
      ]
    },
    {
      "cell_type": "code",
      "source": [
        "a[ : ,:]"
      ],
      "metadata": {
        "colab": {
          "base_uri": "https://localhost:8080/"
        },
        "id": "6R8hCOkjvWRW",
        "outputId": "65a8920a-e88e-4fea-99e1-befaf5ea2806"
      },
      "execution_count": null,
      "outputs": [
        {
          "output_type": "execute_result",
          "data": {
            "text/plain": [
              "array([[1, 8, 8, 6],\n",
              "       [2, 4, 7, 7],\n",
              "       [2, 6, 1, 1]])"
            ]
          },
          "metadata": {},
          "execution_count": 39
        }
      ]
    },
    {
      "cell_type": "code",
      "source": [
        "a[1:,1:3]"
      ],
      "metadata": {
        "colab": {
          "base_uri": "https://localhost:8080/"
        },
        "id": "ObsyztvZvvrg",
        "outputId": "8b31af59-c5b2-487c-fe20-4fff64361323"
      },
      "execution_count": null,
      "outputs": [
        {
          "output_type": "execute_result",
          "data": {
            "text/plain": [
              "array([[4, 7, 7],\n",
              "       [6, 1, 1]])"
            ]
          },
          "metadata": {},
          "execution_count": 40
        }
      ]
    },
    {
      "cell_type": "markdown",
      "source": [
        "##More Function\n",
        "min,max,mean,variance,std"
      ],
      "metadata": {
        "id": "AsHvetc3wYc2"
      }
    },
    {
      "cell_type": "code",
      "source": [
        "a=np.array([[1,3],[2,4]])"
      ],
      "metadata": {
        "id": "LkwSv7Bpv0ry"
      },
      "execution_count": null,
      "outputs": []
    },
    {
      "cell_type": "code",
      "source": [
        "a"
      ],
      "metadata": {
        "colab": {
          "base_uri": "https://localhost:8080/"
        },
        "id": "6FcDfiHSwtuy",
        "outputId": "3dc5d998-7c0a-49a7-d9d2-b69cc3646be7"
      },
      "execution_count": null,
      "outputs": [
        {
          "output_type": "execute_result",
          "data": {
            "text/plain": [
              "array([[1, 3],\n",
              "       [2, 4]])"
            ]
          },
          "metadata": {},
          "execution_count": 46
        }
      ]
    },
    {
      "cell_type": "code",
      "source": [
        "a.min()"
      ],
      "metadata": {
        "colab": {
          "base_uri": "https://localhost:8080/"
        },
        "id": "P6LDjMvvwuuo",
        "outputId": "bdd345db-95e0-45da-9aef-e7fed03b9d84"
      },
      "execution_count": null,
      "outputs": [
        {
          "output_type": "execute_result",
          "data": {
            "text/plain": [
              "1"
            ]
          },
          "metadata": {},
          "execution_count": 47
        }
      ]
    },
    {
      "cell_type": "code",
      "source": [
        "a.max()"
      ],
      "metadata": {
        "colab": {
          "base_uri": "https://localhost:8080/"
        },
        "id": "-mQiQ5M6w0jV",
        "outputId": "d6b0be40-e6e7-4de8-e97b-f3b36cb4e015"
      },
      "execution_count": null,
      "outputs": [
        {
          "output_type": "execute_result",
          "data": {
            "text/plain": [
              "4"
            ]
          },
          "metadata": {},
          "execution_count": 48
        }
      ]
    },
    {
      "cell_type": "code",
      "source": [
        "np.min(a)"
      ],
      "metadata": {
        "colab": {
          "base_uri": "https://localhost:8080/"
        },
        "id": "rj8qBIrPw2Ot",
        "outputId": "14e477f1-7612-46ce-d5f5-70cf29ff368c"
      },
      "execution_count": null,
      "outputs": [
        {
          "output_type": "execute_result",
          "data": {
            "text/plain": [
              "1"
            ]
          },
          "metadata": {},
          "execution_count": 49
        }
      ]
    },
    {
      "cell_type": "code",
      "source": [
        "np.std(a)"
      ],
      "metadata": {
        "colab": {
          "base_uri": "https://localhost:8080/"
        },
        "id": "YhPOpMXdw-93",
        "outputId": "9f5117da-acd1-41e2-b6bb-8fc2a7138984"
      },
      "execution_count": null,
      "outputs": [
        {
          "output_type": "execute_result",
          "data": {
            "text/plain": [
              "1.118033988749895"
            ]
          },
          "metadata": {},
          "execution_count": 50
        }
      ]
    },
    {
      "cell_type": "code",
      "source": [
        "np.std(a,axis=0)"
      ],
      "metadata": {
        "colab": {
          "base_uri": "https://localhost:8080/"
        },
        "id": "4gwjUXLhxYYY",
        "outputId": "97ed4c5f-84e3-4ac4-cc29-1b174a792bd9"
      },
      "execution_count": null,
      "outputs": [
        {
          "output_type": "execute_result",
          "data": {
            "text/plain": [
              "array([0.5, 0.5])"
            ]
          },
          "metadata": {},
          "execution_count": 51
        }
      ]
    },
    {
      "cell_type": "code",
      "source": [
        "np.var(a, axis=1)"
      ],
      "metadata": {
        "colab": {
          "base_uri": "https://localhost:8080/"
        },
        "id": "2rosnqpKxyhF",
        "outputId": "54d384b5-f520-45e8-d65f-49e0b9d4b82d"
      },
      "execution_count": null,
      "outputs": [
        {
          "output_type": "execute_result",
          "data": {
            "text/plain": [
              "array([1., 1.])"
            ]
          },
          "metadata": {},
          "execution_count": 53
        }
      ]
    },
    {
      "cell_type": "code",
      "source": [
        "a=np.array([1,2,3])\n",
        "b=np.array([3,4,5])"
      ],
      "metadata": {
        "id": "_PWG1ggqx90J"
      },
      "execution_count": 4,
      "outputs": []
    },
    {
      "cell_type": "code",
      "source": [
        "np.stack((a,b))"
      ],
      "metadata": {
        "colab": {
          "base_uri": "https://localhost:8080/"
        },
        "id": "JLWUZIOtzmg3",
        "outputId": "195e51aa-7fbe-4e32-bca9-2fbcd9eae851"
      },
      "execution_count": null,
      "outputs": [
        {
          "output_type": "execute_result",
          "data": {
            "text/plain": [
              "array([[1, 2, 3],\n",
              "       [3, 4, 5]])"
            ]
          },
          "metadata": {},
          "execution_count": 57
        }
      ]
    },
    {
      "cell_type": "code",
      "source": [
        "np.stack((b,a),axis =1)"
      ],
      "metadata": {
        "colab": {
          "base_uri": "https://localhost:8080/"
        },
        "id": "kDPMPYSqzpuB",
        "outputId": "d47d9795-e03c-4489-d6c5-4a3b2f3ae468"
      },
      "execution_count": null,
      "outputs": [
        {
          "output_type": "execute_result",
          "data": {
            "text/plain": [
              "array([[3, 1],\n",
              "       [4, 2],\n",
              "       [5, 3]])"
            ]
          },
          "metadata": {},
          "execution_count": 59
        }
      ]
    },
    {
      "cell_type": "code",
      "source": [],
      "metadata": {
        "id": "4kA4KV9tzwwl"
      },
      "execution_count": null,
      "outputs": []
    }
  ]
}